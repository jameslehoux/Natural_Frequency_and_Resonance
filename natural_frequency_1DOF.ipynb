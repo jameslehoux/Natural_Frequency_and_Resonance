{
 "cells": [
  {
   "cell_type": "markdown",
   "id": "84a66162-b169-4a22-91bd-583f132f146a",
   "metadata": {},
   "source": [
    "# Natural Frequency of a Mass-Spring-Damper System\n",
    "This notebook interactively demonstrates the behavior of a single-degree-of-freedom mass-spring-damper system. The system is governed by the second-order differential equation:\n",
    "$$ m\\ddot{x} + c\\dot{x} + kx = 0 $$\n",
    "We can explore how changing the physical parameters affects the system's response."
   ]
  },
  {
   "cell_type": "markdown",
   "id": "32e1216d-f576-4fd2-8386-678c71da20ba",
   "metadata": {},
   "source": [
    "### Key Parameters\n",
    "* **Natural Frequency ($\\omega_n$):** The frequency at which the system oscillates without any driving or damping forces. It's determined by mass and stiffness: $\\omega_n = \\sqrt{k/m}$.\n",
    "* **Damping Ratio ($\\zeta$):** A dimensionless number describing how oscillations decay after a disturbance.\n",
    "    * $\\zeta < 1$: **Underdamped** (oscillates before settling)\n",
    "    * $\\zeta = 1$: **Critically Damped** (fastest return to zero without oscillation)\n",
    "    * $\\zeta > 1$: **Overdamped** (slow, non-oscillating return to zero)"
   ]
  },
  {
   "cell_type": "code",
   "execution_count": 1,
   "id": "7af96c00-9a87-4a62-b0df-2d5092884951",
   "metadata": {},
   "outputs": [
    {
     "data": {
      "application/vnd.jupyter.widget-view+json": {
       "model_id": "3e7137c1053142568e46bdf1a4e55088",
       "version_major": 2,
       "version_minor": 0
      },
      "text/plain": [
       "interactive(children=(FloatSlider(value=10.0, description='Mass (m)', layout=Layout(width='60%'), max=20.0, mi…"
      ]
     },
     "metadata": {},
     "output_type": "display_data"
    }
   ],
   "source": [
    "import numpy as np\n",
    "import matplotlib.pyplot as plt\n",
    "from scipy.integrate import odeint\n",
    "import ipywidgets as widgets\n",
    "from ipywidgets import interact, FloatSlider, Layout\n",
    "\n",
    "# --- Core Physics and Plotting Functions ---\n",
    "\n",
    "def solve_and_plot(m, k, c):\n",
    "    \"\"\"\n",
    "    Solves the system's response and plots both time and frequency domains.\n",
    "    \"\"\"\n",
    "    # 1. Calculate Key Parameters\n",
    "    # Ensure m and k are not zero to avoid division errors\n",
    "    if m <= 0 or k <= 0:\n",
    "        print(\"Mass (m) and Stiffness (k) must be positive.\")\n",
    "        return\n",
    "        \n",
    "    w_n = np.sqrt(k / m)  # Natural Frequency (rad/s)\n",
    "    zeta = c / (2 * np.sqrt(m * k)) if (m > 0 and k > 0) else 0 # Damping Ratio\n",
    "\n",
    "    # --- Setup for Plotting ---\n",
    "    fig, (ax1, ax2) = plt.subplots(1, 2, figsize=(15, 5.5))\n",
    "    fig.suptitle(f\"Mass-Spring-Damper System Response (m={m:.1f} kg, k={k:.0f} N/m, c={c:.1f} Ns/m)\", fontsize=16)\n",
    "\n",
    "    # --- Plot 1: Time-Domain Response (How it oscillates after release) ---\n",
    "    def model(y, t, m, k, c):\n",
    "        x, v = y\n",
    "        dxdt = v\n",
    "        dvdt = (-c * v - k * x) / m\n",
    "        return [dxdt, dvdt]\n",
    "\n",
    "    # Initial conditions: displace by 1 unit and release from rest\n",
    "    y0 = [1.0, 0.0]\n",
    "    t_end = 15.0  # Extend time to see decay of heavily damped systems\n",
    "    t = np.linspace(0, t_end, 500)\n",
    "    \n",
    "    sol = odeint(model, y0, t, args=(m, k, c))\n",
    "    x_t = sol[:, 0]\n",
    "\n",
    "    ax1.plot(t, x_t, 'b-', linewidth=2.5)\n",
    "    ax1.grid(True, linestyle='--', alpha=0.6)\n",
    "    ax1.set_xlabel('Time (s)', fontsize=12)\n",
    "    ax1.set_ylabel('Displacement (m)', fontsize=12)\n",
    "    ax1.set_title(f'Time Response (ζ = {zeta:.2f})', fontsize=14)\n",
    "    ax1.axhline(0, color='black', lw=1)\n",
    "    ax1.set_xlim(0, t_end)\n",
    "    ax1.set_ylim(-1.1, 1.1)\n",
    "\n",
    "    # Add text to classify the damping type\n",
    "    if zeta < 1:\n",
    "        ax1.text(0.95, 0.95, 'Underdamped', transform=ax1.transAxes, ha='right', va='top', fontsize=14, color='green', fontweight='bold')\n",
    "    elif abs(zeta - 1.0) < 0.01:\n",
    "        ax1.text(0.95, 0.95, 'Critically Damped', transform=ax1.transAxes, ha='right', va='top', fontsize=14, color='blue', fontweight='bold')\n",
    "    else:\n",
    "        ax1.text(0.95, 0.95, 'Overdamped', transform=ax1.transAxes, ha='right', va='top', fontsize=14, color='red', fontweight='bold')\n",
    "\n",
    "\n",
    "    # --- Plot 2: Frequency-Domain Response (Resonance Curve) ---\n",
    "    # Define a range of driving frequencies to test\n",
    "    driving_freq = np.linspace(0.01, 2.5 * w_n, 1000)\n",
    "    \n",
    "    # Standard formula for steady-state amplitude\n",
    "    Amplitude = 1 / np.sqrt((k - m * driving_freq**2)**2 + (c * driving_freq)**2)\n",
    "\n",
    "    ax2.plot(driving_freq, Amplitude, 'r-', linewidth=2.5)\n",
    "    ax2.axvline(w_n, color='gray', linestyle='--', lw=2, label=f'Natural Freq. ωn = {w_n:.2f} rad/s')\n",
    "    ax2.grid(True, linestyle='--', alpha=0.6)\n",
    "    ax2.set_xlabel('Driving Frequency (rad/s)', fontsize=12)\n",
    "    ax2.set_ylabel('Steady-State Amplitude (m)', fontsize=12)\n",
    "    ax2.set_title('Frequency Response (Resonance)', fontsize=14)\n",
    "    ax2.legend(fontsize=12)\n",
    "    ax2.set_xlim(0, 2.5 * w_n)\n",
    "    \n",
    "    # Dynamically set a sensible y-axis limit to prevent extreme spikes\n",
    "    # from making the graph unreadable for low damping.\n",
    "    peak_amplitude = np.max(Amplitude)\n",
    "    ax2.set_ylim(0, min(peak_amplitude * 1.2, 0.5)) # Capped at 0.5 for visual stability\n",
    "\n",
    "    plt.tight_layout(rect=[0, 0.03, 1, 0.94])\n",
    "    plt.show()\n",
    "\n",
    "# --- Create the Interactive Sliders ---\n",
    "# Use a wider layout for the sliders\n",
    "slider_layout = Layout(width='60%')\n",
    "interact(\n",
    "    solve_and_plot,\n",
    "    m=FloatSlider(min=1.0, max=20.0, step=0.5, value=10.0, description='Mass (m)', layout=slider_layout),\n",
    "    k=FloatSlider(min=10.0, max=2000.0, step=10, value=1000.0, description='Stiffness (k)', layout=slider_layout),\n",
    "    c=FloatSlider(min=0.0, max=250.0, step=1.0, value=20.0, description='Damping (c)', layout=slider_layout)\n",
    ");"
   ]
  },
  {
   "cell_type": "markdown",
   "id": "93fbae09-0116-403b-95bb-6d0b77a8bcfa",
   "metadata": {},
   "source": [
    "### Things to Try\n",
    "1.  **Find Critical Damping:** For the default mass (m=10) and stiffness (k=1000), what value of the damping coefficient `c` makes the system critically damped ($\\zeta = 1$)?\n",
    "2.  **Observe Resonance:** Set the damping `c` to a very low value (e.g., 5.0). Notice how the peak of the *Frequency Response* curve becomes extremely high at the natural frequency. This is resonance.\n",
    "3.  **Effect of Mass:** How does doubling the mass `m` affect the natural frequency $\\omega_n$?"
   ]
  },
  {
   "cell_type": "code",
   "execution_count": null,
   "id": "269eeb0b-c832-4506-9e3d-90c56355a5a8",
   "metadata": {},
   "outputs": [],
   "source": []
  }
 ],
 "metadata": {
  "kernelspec": {
   "display_name": "Python 3 (ipykernel)",
   "language": "python",
   "name": "python3"
  },
  "language_info": {
   "codemirror_mode": {
    "name": "ipython",
    "version": 3
   },
   "file_extension": ".py",
   "mimetype": "text/x-python",
   "name": "python",
   "nbconvert_exporter": "python",
   "pygments_lexer": "ipython3",
   "version": "3.10.18"
  }
 },
 "nbformat": 4,
 "nbformat_minor": 5
}
